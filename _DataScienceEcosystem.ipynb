{
 "cells": [
  {
   "cell_type": "markdown",
   "id": "d0c0879f",
   "metadata": {},
   "source": [
    "\n",
    "# Data Science Tools and Ecosystem"
   ]
  },
  {
   "cell_type": "markdown",
   "id": "7c092420",
   "metadata": {},
   "source": [
    "**Objectives**\n",
    "- Popular Data Science programming languages\n",
    "- Commonly used Libraries in Data Science\n",
    "- Popula Development Environments\n",
    "- Some examples of arithmetic operations"
   ]
  },
  {
   "cell_type": "markdown",
   "id": "8b417422",
   "metadata": {},
   "source": [
    "In this notebook, Data Science Tools and Ecosystem are summarized.\n"
   ]
  },
  {
   "cell_type": "markdown",
   "id": "937fd176",
   "metadata": {},
   "source": [
    "Some of the popular languages that Data Scientists use are:"
   ]
  },
  {
   "cell_type": "markdown",
   "id": "7d58fcf9",
   "metadata": {},
   "source": [
    "1. Python\n",
    "2. R\n",
    "3. SQL (for SQL db statements)\n",
    "4. Java"
   ]
  },
  {
   "cell_type": "markdown",
   "id": "a0ca6307",
   "metadata": {},
   "source": [
    "Some of the commonly used libraries used by Data Scientists include:"
   ]
  },
  {
   "cell_type": "markdown",
   "id": "79f17a77",
   "metadata": {},
   "source": [
    "1. Pandas (Python)\n",
    "2. Matploblib (Python)\n",
    "3. ggplot (R)\n",
    "\n"
   ]
  },
  {
   "cell_type": "markdown",
   "id": "1152a662",
   "metadata": {},
   "source": [
    "|Data Science Tools|\n",
    "|------|\n",
    "|R studio|\n",
    "|VS Code|\n",
    "|Jupyter Notebooks|\n",
    "|Google Colab|"
   ]
  },
  {
   "cell_type": "markdown",
   "id": "9acafd96",
   "metadata": {},
   "source": [
    "### Below are a few examples of evaluating arithmetic expressions in Python"
   ]
  },
  {
   "cell_type": "code",
   "execution_count": 2,
   "id": "d2e441e7",
   "metadata": {},
   "outputs": [
    {
     "data": {
      "text/plain": [
       "17"
      ]
     },
     "execution_count": 2,
     "metadata": {},
     "output_type": "execute_result"
    }
   ],
   "source": [
    "#This a simple arithmetic expression to mutiply then add integers\n",
    "(3*4)+5"
   ]
  },
  {
   "cell_type": "code",
   "execution_count": 3,
   "id": "03e07ce1",
   "metadata": {},
   "outputs": [
    {
     "data": {
      "text/plain": [
       "3.3333333333333335"
      ]
     },
     "execution_count": 3,
     "metadata": {},
     "output_type": "execute_result"
    }
   ],
   "source": [
    "# This will convert 200 minutes to hours by diving by 60\n",
    "200/60"
   ]
  },
  {
   "cell_type": "markdown",
   "id": "5eac9bd5",
   "metadata": {},
   "source": [
    "## Author\n",
    "Jose Luis de Juan"
   ]
  },
  {
   "cell_type": "code",
   "execution_count": null,
   "id": "b7fa21ce",
   "metadata": {},
   "outputs": [],
   "source": []
  }
 ],
 "metadata": {
  "kernelspec": {
   "display_name": "Python 3 (ipykernel)",
   "language": "python",
   "name": "python3"
  },
  "language_info": {
   "codemirror_mode": {
    "name": "ipython",
    "version": 3
   },
   "file_extension": ".py",
   "mimetype": "text/x-python",
   "name": "python",
   "nbconvert_exporter": "python",
   "pygments_lexer": "ipython3",
   "version": "3.9.16"
  }
 },
 "nbformat": 4,
 "nbformat_minor": 5
}
